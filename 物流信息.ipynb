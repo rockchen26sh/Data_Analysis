{
 "cells": [
  {
   "cell_type": "code",
   "execution_count": 10,
   "metadata": {
    "collapsed": false,
    "scrolled": true
   },
   "outputs": [],
   "source": [
    "import pymysql\n",
    "import pandas as pd\n",
    "from pandas import DataFrame,Series"
   ]
  },
  {
   "cell_type": "code",
   "execution_count": 11,
   "metadata": {
    "collapsed": false
   },
   "outputs": [
    {
     "name": "stderr",
     "output_type": "stream",
     "text": [
      "C:\\ProgramData\\Anaconda2\\lib\\site-packages\\pymysql\\cursors.py:166: Warning: (1292, u\"Truncated incorrect DOUBLE value: '24,'\")\n",
      "  result = self._query(query)\n",
      "C:\\ProgramData\\Anaconda2\\lib\\site-packages\\pymysql\\cursors.py:166: Warning: (1292, u\"Truncated incorrect DOUBLE value: '27,'\")\n",
      "  result = self._query(query)\n",
      "C:\\ProgramData\\Anaconda2\\lib\\site-packages\\pymysql\\cursors.py:166: Warning: (1292, u\"Truncated incorrect DOUBLE value: '26,'\")\n",
      "  result = self._query(query)\n",
      "C:\\ProgramData\\Anaconda2\\lib\\site-packages\\pymysql\\cursors.py:166: Warning: (1292, u\"Truncated incorrect DOUBLE value: '25,'\")\n",
      "  result = self._query(query)\n",
      "C:\\ProgramData\\Anaconda2\\lib\\site-packages\\pymysql\\cursors.py:166: Warning: (1292, u\"Truncated incorrect DOUBLE value: '28,'\")\n",
      "  result = self._query(query)\n",
      "C:\\ProgramData\\Anaconda2\\lib\\site-packages\\pymysql\\cursors.py:166: Warning: (1292, u\"Truncated incorrect DOUBLE value: '29,'\")\n",
      "  result = self._query(query)\n",
      "C:\\ProgramData\\Anaconda2\\lib\\site-packages\\pymysql\\cursors.py:166: Warning: (1292, u\"Truncated incorrect DOUBLE value: '70,'\")\n",
      "  result = self._query(query)\n",
      "C:\\ProgramData\\Anaconda2\\lib\\site-packages\\pymysql\\cursors.py:166: Warning: (1292, u\"Truncated incorrect DOUBLE value: '8069,'\")\n",
      "  result = self._query(query)\n",
      "C:\\ProgramData\\Anaconda2\\lib\\site-packages\\pymysql\\cursors.py:166: Warning: (1292, u\"Truncated incorrect DOUBLE value: '8068,'\")\n",
      "  result = self._query(query)\n",
      "C:\\ProgramData\\Anaconda2\\lib\\site-packages\\pymysql\\cursors.py:166: Warning: (1292, u\"Truncated incorrect DOUBLE value: '8072,'\")\n",
      "  result = self._query(query)\n",
      "C:\\ProgramData\\Anaconda2\\lib\\site-packages\\pymysql\\cursors.py:166: Warning: (1292, u\"Truncated incorrect DOUBLE value: '8077,'\")\n",
      "  result = self._query(query)\n"
     ]
    }
   ],
   "source": [
    "sql = ''\n",
    "conn = pymysql.connect('rdsl1bdoa7h7d5ko2hkno.mysql.rds.aliyuncs.com',\n",
    "                       user='bossaccess',\n",
    "                       passwd = 'master-502',\n",
    "                       db = 'chekumaster',\n",
    "                       charset='utf8')\n",
    "sql = '''select cheku_spec_order.create_time,cheku_spec_order.order_info,\n",
    "            cheku_spec_order.username,cheku_spec_order.address,cheku_spec_order.msrp,\n",
    "            cheku_spec_order.buy_num,cheku_spec_order.costs,cheku_spec_order.order_status,\n",
    "            cheku_procurement_order.supplyGoods as supply,cheku_procurement_order.username as supplyname,cheku_procurement_order.goodsCity as fromcity\n",
    "        from chekumaster.cheku_spec_order right join chekumaster.cheku_procurement_order\n",
    "        ON  cheku_spec_order.proIds = cheku_procurement_order.id\n",
    "        where cheku_spec_order.transport_method = 2 and cheku_spec_order.del_flag != 1;\n",
    "        '''\n",
    "df = pd.read_sql(sql,conn)"
   ]
  },
  {
   "cell_type": "code",
   "execution_count": 12,
   "metadata": {
    "collapsed": false
   },
   "outputs": [],
   "source": [
    "df.index = pd.to_datetime(df.create_time)"
   ]
  },
  {
   "cell_type": "code",
   "execution_count": 13,
   "metadata": {
    "collapsed": false
   },
   "outputs": [],
   "source": [
    "df = df.drop('create_time',axis=1)"
   ]
  },
  {
   "cell_type": "code",
   "execution_count": 14,
   "metadata": {
    "collapsed": false
   },
   "outputs": [
    {
     "data": {
      "text/html": [
       "<div>\n",
       "<table border=\"1\" class=\"dataframe\">\n",
       "  <thead>\n",
       "    <tr style=\"text-align: right;\">\n",
       "      <th></th>\n",
       "      <th>order_info</th>\n",
       "      <th>username</th>\n",
       "      <th>address</th>\n",
       "      <th>msrp</th>\n",
       "      <th>buy_num</th>\n",
       "      <th>costs</th>\n",
       "      <th>order_status</th>\n",
       "      <th>supply</th>\n",
       "      <th>supplyname</th>\n",
       "      <th>fromcity</th>\n",
       "    </tr>\n",
       "    <tr>\n",
       "      <th>create_time</th>\n",
       "      <th></th>\n",
       "      <th></th>\n",
       "      <th></th>\n",
       "      <th></th>\n",
       "      <th></th>\n",
       "      <th></th>\n",
       "      <th></th>\n",
       "      <th></th>\n",
       "      <th></th>\n",
       "      <th></th>\n",
       "    </tr>\n",
       "  </thead>\n",
       "  <tbody>\n",
       "    <tr>\n",
       "      <th>2017-02-08 15:35:02</th>\n",
       "      <td>雪佛兰:上汽通用雪佛兰:赛欧:2016款 赛欧3 1.3L 手动舒适天窗版</td>\n",
       "      <td>王阿蒙</td>\n",
       "      <td>河南省洛阳市高新开发区河洛路与安康路交叉口向北500米威佳汽车博览中心6号</td>\n",
       "      <td>63900</td>\n",
       "      <td>1</td>\n",
       "      <td>0</td>\n",
       "      <td>1</td>\n",
       "      <td>上海锦俊汽车销售服务有限公司</td>\n",
       "      <td>陈元龙</td>\n",
       "      <td>上海市</td>\n",
       "    </tr>\n",
       "    <tr>\n",
       "      <th>2017-02-09 14:37:43</th>\n",
       "      <td>雪佛兰:上汽通用雪佛兰:赛欧:2016款 赛欧3 1.3L 手动舒适天窗版</td>\n",
       "      <td>张云范</td>\n",
       "      <td>莱芜市莱城区长勺北路汽车商贸城雪佛兰4S店</td>\n",
       "      <td>63900</td>\n",
       "      <td>6</td>\n",
       "      <td>0</td>\n",
       "      <td>-2</td>\n",
       "      <td>上海锦俊汽车销售服务有限公司</td>\n",
       "      <td>李瑞娇</td>\n",
       "      <td>上海市</td>\n",
       "    </tr>\n",
       "    <tr>\n",
       "      <th>2017-02-23 13:28:09</th>\n",
       "      <td>雪佛兰:上汽通用雪佛兰:迈锐宝XL:2016款 2.5L 自动锐尊版</td>\n",
       "      <td>王阿蒙</td>\n",
       "      <td>林安汽车城</td>\n",
       "      <td>249900</td>\n",
       "      <td>1</td>\n",
       "      <td>2174</td>\n",
       "      <td>7</td>\n",
       "      <td>上海锦俊汽车销售服务有限公司</td>\n",
       "      <td>锦俊</td>\n",
       "      <td>上海市</td>\n",
       "    </tr>\n",
       "    <tr>\n",
       "      <th>2017-02-27 15:32:17</th>\n",
       "      <td>别克:上汽通用别克:英朗:2017款 15N 自动进取型</td>\n",
       "      <td>王阿蒙</td>\n",
       "      <td>河南省洛阳市洛龙区林安汽车城南10号展厅</td>\n",
       "      <td>119900</td>\n",
       "      <td>1</td>\n",
       "      <td>1885</td>\n",
       "      <td>7</td>\n",
       "      <td>上海美悦汽车销售有限公司</td>\n",
       "      <td>陈峥嵘</td>\n",
       "      <td>上海市</td>\n",
       "    </tr>\n",
       "  </tbody>\n",
       "</table>\n",
       "</div>"
      ],
      "text/plain": [
       "                                                order_info username  \\\n",
       "create_time                                                           \n",
       "2017-02-08 15:35:02  雪佛兰:上汽通用雪佛兰:赛欧:2016款 赛欧3 1.3L 手动舒适天窗版      王阿蒙   \n",
       "2017-02-09 14:37:43  雪佛兰:上汽通用雪佛兰:赛欧:2016款 赛欧3 1.3L 手动舒适天窗版      张云范   \n",
       "2017-02-23 13:28:09     雪佛兰:上汽通用雪佛兰:迈锐宝XL:2016款 2.5L 自动锐尊版      王阿蒙   \n",
       "2017-02-27 15:32:17           别克:上汽通用别克:英朗:2017款 15N 自动进取型      王阿蒙   \n",
       "\n",
       "                                                   address    msrp  buy_num  \\\n",
       "create_time                                                                   \n",
       "2017-02-08 15:35:02  河南省洛阳市高新开发区河洛路与安康路交叉口向北500米威佳汽车博览中心6号   63900        1   \n",
       "2017-02-09 14:37:43                  莱芜市莱城区长勺北路汽车商贸城雪佛兰4S店   63900        6   \n",
       "2017-02-23 13:28:09                                  林安汽车城  249900        1   \n",
       "2017-02-27 15:32:17                   河南省洛阳市洛龙区林安汽车城南10号展厅  119900        1   \n",
       "\n",
       "                     costs  order_status          supply supplyname fromcity  \n",
       "create_time                                                                   \n",
       "2017-02-08 15:35:02      0             1  上海锦俊汽车销售服务有限公司        陈元龙      上海市  \n",
       "2017-02-09 14:37:43      0            -2  上海锦俊汽车销售服务有限公司        李瑞娇      上海市  \n",
       "2017-02-23 13:28:09   2174             7  上海锦俊汽车销售服务有限公司         锦俊      上海市  \n",
       "2017-02-27 15:32:17   1885             7    上海美悦汽车销售有限公司        陈峥嵘      上海市  "
      ]
     },
     "execution_count": 14,
     "metadata": {},
     "output_type": "execute_result"
    }
   ],
   "source": [
    "df.loc['2017']"
   ]
  },
  {
   "cell_type": "code",
   "execution_count": null,
   "metadata": {
    "collapsed": true
   },
   "outputs": [],
   "source": []
  }
 ],
 "metadata": {
  "kernelspec": {
   "display_name": "Python 2",
   "language": "python",
   "name": "python2"
  },
  "language_info": {
   "codemirror_mode": {
    "name": "ipython",
    "version": 2
   },
   "file_extension": ".py",
   "mimetype": "text/x-python",
   "name": "python",
   "nbconvert_exporter": "python",
   "pygments_lexer": "ipython2",
   "version": "2.7.13"
  }
 },
 "nbformat": 4,
 "nbformat_minor": 2
}
