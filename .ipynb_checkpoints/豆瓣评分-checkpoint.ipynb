{
 "cells": [
  {
   "cell_type": "code",
   "execution_count": 1,
   "metadata": {
    "collapsed": true
   },
   "outputs": [],
   "source": [
    "import pandas as pd\n",
    "import numpy as np\n",
    "import matplotlib.pyplot as plt\n",
    "% matplotlib inline"
   ]
  },
  {
   "cell_type": "code",
   "execution_count": 2,
   "metadata": {
    "collapsed": false
   },
   "outputs": [
    {
     "data": {
      "text/plain": [
       "'C:\\\\Users\\\\chenshengkang\\\\Documents\\\\GitHub\\\\Data_Analysis'"
      ]
     },
     "execution_count": 2,
     "metadata": {},
     "output_type": "execute_result"
    }
   ],
   "source": [
    "import os\n",
    "os.getcwd()"
   ]
  },
  {
   "cell_type": "code",
   "execution_count": 5,
   "metadata": {
    "collapsed": true
   },
   "outputs": [],
   "source": [
    "df = pd.read_csv('DMSC.csv',index_col='ID')"
   ]
  },
  {
   "cell_type": "code",
   "execution_count": 6,
   "metadata": {
    "collapsed": false
   },
   "outputs": [
    {
     "data": {
      "text/html": [
       "<div>\n",
       "<table border=\"1\" class=\"dataframe\">\n",
       "  <thead>\n",
       "    <tr style=\"text-align: right;\">\n",
       "      <th></th>\n",
       "      <th>Movie_Name_EN</th>\n",
       "      <th>Movie_Name_CN</th>\n",
       "      <th>Crawl_Date</th>\n",
       "      <th>Number</th>\n",
       "      <th>Username</th>\n",
       "      <th>Date</th>\n",
       "      <th>Star</th>\n",
       "      <th>Comment</th>\n",
       "      <th>Like</th>\n",
       "    </tr>\n",
       "    <tr>\n",
       "      <th>ID</th>\n",
       "      <th></th>\n",
       "      <th></th>\n",
       "      <th></th>\n",
       "      <th></th>\n",
       "      <th></th>\n",
       "      <th></th>\n",
       "      <th></th>\n",
       "      <th></th>\n",
       "      <th></th>\n",
       "    </tr>\n",
       "  </thead>\n",
       "  <tbody>\n",
       "    <tr>\n",
       "      <th>0</th>\n",
       "      <td>Avengers Age of Ultron</td>\n",
       "      <td>复仇者联盟2</td>\n",
       "      <td>2017-01-22</td>\n",
       "      <td>1</td>\n",
       "      <td>然潘</td>\n",
       "      <td>2015-05-13</td>\n",
       "      <td>3</td>\n",
       "      <td>连奥创都知道整容要去韩国。</td>\n",
       "      <td>2404</td>\n",
       "    </tr>\n",
       "    <tr>\n",
       "      <th>1</th>\n",
       "      <td>Avengers Age of Ultron</td>\n",
       "      <td>复仇者联盟2</td>\n",
       "      <td>2017-01-22</td>\n",
       "      <td>2</td>\n",
       "      <td>更深的白色</td>\n",
       "      <td>2015-04-24</td>\n",
       "      <td>2</td>\n",
       "      <td>非常失望，剧本完全敷衍了事，主线剧情没突破大家可以理解，可所有的人物都缺乏动机，正邪之间、...</td>\n",
       "      <td>1231</td>\n",
       "    </tr>\n",
       "    <tr>\n",
       "      <th>2</th>\n",
       "      <td>Avengers Age of Ultron</td>\n",
       "      <td>复仇者联盟2</td>\n",
       "      <td>2017-01-22</td>\n",
       "      <td>3</td>\n",
       "      <td>有意识的贱民</td>\n",
       "      <td>2015-04-26</td>\n",
       "      <td>2</td>\n",
       "      <td>2015年度最失望作品。以为面面俱到，实则画蛇添足；以为主题深刻，实则老调重弹；以为推陈出...</td>\n",
       "      <td>1052</td>\n",
       "    </tr>\n",
       "    <tr>\n",
       "      <th>3</th>\n",
       "      <td>Avengers Age of Ultron</td>\n",
       "      <td>复仇者联盟2</td>\n",
       "      <td>2017-01-22</td>\n",
       "      <td>4</td>\n",
       "      <td>不老的李大爷耶</td>\n",
       "      <td>2015-04-23</td>\n",
       "      <td>4</td>\n",
       "      <td>《铁人2》中勾引钢铁侠，《妇联1》中勾引鹰眼，《美队2》中勾引美国队长，在《妇联2》中终于...</td>\n",
       "      <td>1045</td>\n",
       "    </tr>\n",
       "    <tr>\n",
       "      <th>4</th>\n",
       "      <td>Avengers Age of Ultron</td>\n",
       "      <td>复仇者联盟2</td>\n",
       "      <td>2017-01-22</td>\n",
       "      <td>5</td>\n",
       "      <td>ZephyrO</td>\n",
       "      <td>2015-04-22</td>\n",
       "      <td>2</td>\n",
       "      <td>虽然从头打到尾，但是真的很无聊啊。</td>\n",
       "      <td>723</td>\n",
       "    </tr>\n",
       "  </tbody>\n",
       "</table>\n",
       "</div>"
      ],
      "text/plain": [
       "             Movie_Name_EN Movie_Name_CN  Crawl_Date  Number Username  \\\n",
       "ID                                                                      \n",
       "0   Avengers Age of Ultron        复仇者联盟2  2017-01-22       1       然潘   \n",
       "1   Avengers Age of Ultron        复仇者联盟2  2017-01-22       2    更深的白色   \n",
       "2   Avengers Age of Ultron        复仇者联盟2  2017-01-22       3   有意识的贱民   \n",
       "3   Avengers Age of Ultron        复仇者联盟2  2017-01-22       4  不老的李大爷耶   \n",
       "4   Avengers Age of Ultron        复仇者联盟2  2017-01-22       5  ZephyrO   \n",
       "\n",
       "          Date  Star                                            Comment  Like  \n",
       "ID                                                                             \n",
       "0   2015-05-13     3                                      连奥创都知道整容要去韩国。  2404  \n",
       "1   2015-04-24     2   非常失望，剧本完全敷衍了事，主线剧情没突破大家可以理解，可所有的人物都缺乏动机，正邪之间、...  1231  \n",
       "2   2015-04-26     2   2015年度最失望作品。以为面面俱到，实则画蛇添足；以为主题深刻，实则老调重弹；以为推陈出...  1052  \n",
       "3   2015-04-23     4   《铁人2》中勾引钢铁侠，《妇联1》中勾引鹰眼，《美队2》中勾引美国队长，在《妇联2》中终于...  1045  \n",
       "4   2015-04-22     2                                  虽然从头打到尾，但是真的很无聊啊。   723  "
      ]
     },
     "execution_count": 6,
     "metadata": {},
     "output_type": "execute_result"
    }
   ],
   "source": [
    "df.head()"
   ]
  },
  {
   "cell_type": "code",
   "execution_count": 25,
   "metadata": {
    "collapsed": false
   },
   "outputs": [
    {
     "data": {
      "text/plain": [
       "(2125056, 9)"
      ]
     },
     "execution_count": 25,
     "metadata": {},
     "output_type": "execute_result"
    }
   ],
   "source": [
    "df.shape"
   ]
  },
  {
   "cell_type": "code",
   "execution_count": 19,
   "metadata": {
    "collapsed": false
   },
   "outputs": [
    {
     "data": {
      "text/plain": [
       "Zootopia                                      137511\n",
       "CUG King of Heroes                            133393\n",
       "The Continent                                 120200\n",
       "The Ghouls                                    113687\n",
       "Your Name                                     113260\n",
       "Goodbye Mr. Loser                             109162\n",
       "Train to Busan                                102876\n",
       "La La Land                                     96620\n",
       "Journey to the West The Demons Strike Back     91452\n",
       "Tiny Times 1.0                                 88903\n",
       "Lost In Thailand                               85677\n",
       "Big Fish and Begonia                           83692\n",
       "The Great Wall                                 83173\n",
       "Journey to the West Conquering the Demons      79962\n",
       "The Avengers                                   78281\n",
       "The Mermaid                                    73882\n",
       "Soulmate                                       68359\n",
       "Captain America Civil War                      64410\n",
       "Transformers Age of Extinction                 58746\n",
       "Avengers Age of Ultron                         54153\n",
       "Chinese Zodiac                                 46233\n",
       "Chronicles of the Ghostly Tribe                44366\n",
       "Tiny Times 3.0                                 41152\n",
       "The Left Ear                                   39802\n",
       "Operation Mekong                               35093\n",
       "Forever Young                                  30475\n",
       "My Sunshine                                    26797\n",
       "Iron Man                                       23739\n",
       "Name: Movie_Name_EN, dtype: int64"
      ]
     },
     "execution_count": 19,
     "metadata": {},
     "output_type": "execute_result"
    }
   ],
   "source": [
    "df['Movie_Name_EN'].value_counts()"
   ]
  },
  {
   "cell_type": "code",
   "execution_count": 22,
   "metadata": {
    "collapsed": false
   },
   "outputs": [
    {
     "data": {
      "text/plain": [
       "Movie_Name_EN\n",
       "Avengers Age of Ultron                        3.496113\n",
       "Big Fish and Begonia                          3.263263\n",
       "CUG King of Heroes                            4.266476\n",
       "Captain America Civil War                     3.852119\n",
       "Chinese Zodiac                                3.473839\n",
       "Chronicles of the Ghostly Tribe               2.352928\n",
       "Forever Young                                 2.423560\n",
       "Goodbye Mr. Loser                             3.764561\n",
       "Iron Man                                      3.975820\n",
       "Journey to the West Conquering the Demons     3.533453\n",
       "Journey to the West The Demons Strike Back    3.068746\n",
       "La La Land                                    4.221548\n",
       "Lost In Thailand                              3.769413\n",
       "My Sunshine                                   1.819084\n",
       "Operation Mekong                              3.967971\n",
       "Soulmate                                      3.862973\n",
       "The Avengers                                  4.053717\n",
       "The Continent                                 3.679201\n",
       "The Ghouls                                    3.898062\n",
       "The Great Wall                                3.128804\n",
       "The Left Ear                                  2.777524\n",
       "The Mermaid                                   3.379781\n",
       "Tiny Times 1.0                                2.341395\n",
       "Tiny Times 3.0                                2.159555\n",
       "Train to Busan                                4.124276\n",
       "Transformers Age of Extinction                3.256409\n",
       "Your Name                                     4.310975\n",
       "Zootopia                                      4.636749\n",
       "Name: Star, dtype: float64"
      ]
     },
     "execution_count": 22,
     "metadata": {},
     "output_type": "execute_result"
    }
   ],
   "source": [
    "df.Star.groupby(df['Movie_Name_EN']).mean()"
   ]
  },
  {
   "cell_type": "code",
   "execution_count": 23,
   "metadata": {
    "collapsed": false
   },
   "outputs": [
    {
     "data": {
      "text/plain": [
       "Movie_Name_EN\n",
       "Avengers Age of Ultron                         16829\n",
       "Big Fish and Begonia                          162137\n",
       "CUG King of Heroes                             99573\n",
       "Captain America Civil War                      46870\n",
       "Chinese Zodiac                                  9489\n",
       "Chronicles of the Ghostly Tribe                31731\n",
       "Forever Young                                 117682\n",
       "Goodbye Mr. Loser                              67110\n",
       "Iron Man                                        1998\n",
       "Journey to the West Conquering the Demons      29719\n",
       "Journey to the West The Demons Strike Back    446811\n",
       "La La Land                                     95939\n",
       "Lost In Thailand                               26957\n",
       "My Sunshine                                    55299\n",
       "Operation Mekong                               85967\n",
       "Soulmate                                       56299\n",
       "The Avengers                                   11745\n",
       "The Continent                                 101163\n",
       "The Ghouls                                     66632\n",
       "The Great Wall                                179754\n",
       "The Left Ear                                   31787\n",
       "The Mermaid                                   116115\n",
       "Tiny Times 1.0                                102594\n",
       "Tiny Times 3.0                                 57963\n",
       "Train to Busan                                 92061\n",
       "Transformers Age of Extinction                  9894\n",
       "Your Name                                     119717\n",
       "Zootopia                                       51147\n",
       "Name: Like, dtype: int64"
      ]
     },
     "execution_count": 23,
     "metadata": {},
     "output_type": "execute_result"
    }
   ],
   "source": [
    "df.Like.groupby(df['Movie_Name_EN']).sum()"
   ]
  },
  {
   "cell_type": "code",
   "execution_count": null,
   "metadata": {
    "collapsed": true
   },
   "outputs": [],
   "source": []
  }
 ],
 "metadata": {
  "kernelspec": {
   "display_name": "Python 2",
   "language": "python",
   "name": "python2"
  },
  "language_info": {
   "codemirror_mode": {
    "name": "ipython",
    "version": 2
   },
   "file_extension": ".py",
   "mimetype": "text/x-python",
   "name": "python",
   "nbconvert_exporter": "python",
   "pygments_lexer": "ipython2",
   "version": "2.7.13"
  }
 },
 "nbformat": 4,
 "nbformat_minor": 2
}
